{
 "cells": [
  {
   "cell_type": "code",
   "execution_count": 1,
   "id": "93255073",
   "metadata": {},
   "outputs": [],
   "source": [
    "from tkinter import*\n",
    "from tkinter import ttk\n",
    "r=Tk()\n",
    "r.geometry(\"480x480\")\n",
    "r.configure(bg=\"yellow\")\n",
    "r.resizable(0,0)\n",
    "r.title(\"Bill Calcultor\")\n",
    "def Calculate():\n",
    "    quantity=int(qa_entry.get())\n",
    "    price=float(pri_entry.get())\n",
    "    discount=float(di_entry.get())\n",
    "    total=(quantity*price)\n",
    "    pk=(total)*(discount/100)\n",
    "    new_price=(total-pk)\n",
    "    \n",
    "    tot=Label(r,text=new_price, font=10)\n",
    "    tot.place(x=180,y=240)\n",
    "\n",
    "def clear():\n",
    "    qa_entry.delete(0,END)\n",
    "    pri_entry.delete(0,END)\n",
    "    di_entry.delete(0,END)\n",
    "main=Label(r,text=\"BILL CALCULATOR\",font=10)\n",
    "main.place(x=180,y=25)\n",
    "na=Label(r,text=\"Product Name\",font=10)\n",
    "na.place(x=40,y=80)\n",
    "combobox=ttk.Combobox(r)\n",
    "combobox[\"value\"]=\"Tshirt\",\"Jeans\",\"Upper\",\"Lower\",\"Shoes\",\"Soacks\",\"Hoodie\",\"Jacket\",\"CAP\"\n",
    "combobox.place(x=180,y=80)\n",
    "qa=Label(r,text=\"Quantity\",font=10)\n",
    "qa.place(x=40,y=120)\n",
    "qa_entry=Entry(r,font=10)\n",
    "qa_entry.place(x=180,y=120)\n",
    "pri=Label(r,text=\"Price\",font=10)\n",
    "pri.place(x=40,y=160)\n",
    "pri_entry=Entry(r,font=10)\n",
    "pri_entry.place(x=180,y=160)\n",
    "di=Label(r,text=\"Discount\",font=10)\n",
    "di.place(x=40,y=200)\n",
    "di_entry=Entry(r,font=10)\n",
    "di_entry.place(x=180,y=200)\n",
    "tb=Label(r,text=\"Total Bill :\",font=10)\n",
    "tb.place(x=40,y=240)\n",
    "button1=Button(r,text=\"Calculate Bill\",font=10,command=lambda: Calculate())\n",
    "button1.place(x=40,y=420)\n",
    "button2=Button(r,text=\"Clear\",font=10,command=lambda:clear())\n",
    "button2.place(x=240,y=420)\n",
    "button3=Button(r,text=\"Exit\",font=10)\n",
    "button3.place(x=400,y=420)\n",
    "mainloop()"
   ]
  },
  {
   "cell_type": "code",
   "execution_count": null,
   "id": "50d83201",
   "metadata": {},
   "outputs": [],
   "source": []
  }
 ],
 "metadata": {
  "kernelspec": {
   "display_name": "Python 3 (ipykernel)",
   "language": "python",
   "name": "python3"
  },
  "language_info": {
   "codemirror_mode": {
    "name": "ipython",
    "version": 3
   },
   "file_extension": ".py",
   "mimetype": "text/x-python",
   "name": "python",
   "nbconvert_exporter": "python",
   "pygments_lexer": "ipython3",
   "version": "3.11.4"
  }
 },
 "nbformat": 4,
 "nbformat_minor": 5
}
